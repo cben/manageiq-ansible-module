{
 "cells": [
  {
   "cell_type": "code",
   "execution_count": 3,
   "metadata": {
    "collapsed": true
   },
   "outputs": [],
   "source": [
    "result_by_role = {'default': {'hostname': 'beni.com', 'port': 3000}, u'hawkular': {'hostname': u'alon_gold.com', 'port': 1234}}\n",
    "desired_by_role = {'default': {'hostname': 'erez_oshift01.com', 'port': 3000}}"
   ]
  },
  {
   "cell_type": "markdown",
   "metadata": {},
   "source": [
    "# Original"
   ]
  },
  {
   "cell_type": "code",
   "execution_count": 8,
   "metadata": {
    "collapsed": false
   },
   "outputs": [
    {
     "data": {
      "text/plain": [
       "{'Added': {},\n",
       " 'Removed': {u'hawkular': {'hostname': u'alon_gold.com', 'port': 1234}},\n",
       " 'Updated': {'default': {'hostname': 'erez_oshift01.com'}}}"
      ]
     },
     "execution_count": 8,
     "metadata": {},
     "output_type": "execute_result"
    }
   ],
   "source": [
    "updated = {role: {k: v for k, v in ep.items()\n",
    "                  if k not in result_by_role[role] or v != result_by_role[role][k]}\n",
    "           for role, ep in desired_by_role.items()\n",
    "           if role in result_by_role and ep != result_by_role[role]}\n",
    "added = {role: ep for role, ep in desired_by_role.items()\n",
    "         if role not in result_by_role}\n",
    "removed = {role: ep for role, ep in result_by_role.items()\n",
    "           if role not in desired_by_role}\n",
    "{\"Updated\": updated, \"Added\": added, \"Removed\": removed}\n"
   ]
  },
  {
   "cell_type": "code",
   "execution_count": null,
   "metadata": {
    "collapsed": true
   },
   "outputs": [],
   "source": [
    "updated = {role: {k: v for k, v in ep.items()\n",
    "                  if k not in result_by_role[role] or v != result_by_role[role][k]}\n",
    "           for role, ep in desired_by_role.items()\n",
    "           if role in result_by_role and ep != result_by_role[role]}\n",
    "added = {role: ep for role, ep in desired_by_role.items()\n",
    "         if role not in result_by_role}\n",
    "removed = {role: ep for role, ep in result_by_role.items()\n",
    "           if role not in desired_by_role}\n",
    "{\"Updated\": updated, \"Added\": added, \"Removed\": removed}\n"
   ]
  },
  {
   "cell_type": "markdown",
   "metadata": {},
   "source": [
    "# Recursive, different {key: 'Updated'/...} results\n",
    "Easier to generate recursively but less informative."
   ]
  },
  {
   "cell_type": "code",
   "execution_count": 6,
   "metadata": {
    "collapsed": true
   },
   "outputs": [],
   "source": [
    "def dict_diff(old, new):\n",
    "    diff = {}\n",
    "    for k in set(old) - set(new):\n",
    "        diff[k] = 'Removed'\n",
    "    for k in set(new) - set(old):\n",
    "        diff[k] = 'Added'\n",
    "    for k in set(new) & set(old):\n",
    "        if old[k] != new[k]:\n",
    "            if isinstance(old[k], dict) and isinstance(new[k], dict):\n",
    "                subdiff = dict_diff(old[k], new[k])\n",
    "                if subdiff:\n",
    "                    diff[k] = subdiff\n",
    "            else:\n",
    "                diff[k] = 'Updated'\n",
    "    return diff"
   ]
  },
  {
   "cell_type": "code",
   "execution_count": 7,
   "metadata": {
    "collapsed": false
   },
   "outputs": [
    {
     "data": {
      "text/plain": [
       "{'default': {'hostname': 'Updated'}, u'hawkular': 'Removed'}"
      ]
     },
     "execution_count": 7,
     "metadata": {},
     "output_type": "execute_result"
    }
   ],
   "source": [
    "dict_diff(result_by_role, desired_by_role)"
   ]
  },
  {
   "cell_type": "code",
   "execution_count": 10,
   "metadata": {
    "collapsed": false
   },
   "outputs": [],
   "source": [
    "# Another implementation, assuming None is not a valid value\n",
    "\n",
    "def value_diff(old, new):\n",
    "    if old == new:\n",
    "        return None\n",
    "    if isinstance(old, dict) and isinstance(new, dict):\n",
    "        return dict_diff(old, new)\n",
    "    if old is None:\n",
    "        return 'Added'\n",
    "    if new is None:\n",
    "        return 'Removed'\n",
    "    return 'Updated'\n",
    "\n",
    "def dict_diff2(old, new):\n",
    "    diff = {}\n",
    "    for k in set(old) | set(new):\n",
    "        subdiff = value_diff(old.get(k, None), new.get(k, None))\n",
    "        if subdiff is not None:\n",
    "            diff[k] = subdiff\n",
    "    return diff"
   ]
  },
  {
   "cell_type": "code",
   "execution_count": 12,
   "metadata": {
    "collapsed": false
   },
   "outputs": [
    {
     "data": {
      "text/plain": [
       "{'default': {'hostname': 'Updated'}, u'hawkular': 'Removed'}"
      ]
     },
     "execution_count": 12,
     "metadata": {},
     "output_type": "execute_result"
    }
   ],
   "source": [
    "dict_diff2(result_by_role, desired_by_role)"
   ]
  },
  {
   "cell_type": "code",
   "execution_count": null,
   "metadata": {
    "collapsed": true
   },
   "outputs": [],
   "source": []
  }
 ],
 "metadata": {
  "kernelspec": {
   "display_name": "Python 2",
   "language": "python",
   "name": "python2"
  },
  "language_info": {
   "codemirror_mode": {
    "name": "ipython",
    "version": 2
   },
   "file_extension": ".py",
   "mimetype": "text/x-python",
   "name": "python",
   "nbconvert_exporter": "python",
   "pygments_lexer": "ipython2",
   "version": "2.7.12"
  }
 },
 "nbformat": 4,
 "nbformat_minor": 0
}
